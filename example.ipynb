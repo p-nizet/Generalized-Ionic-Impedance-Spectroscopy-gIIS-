from __future__ import print_function
import numpy as np
import matplotlib.pyplot as plt
from scipy.optimize import curve_fit
import math
pi = math.pi

##### Dibujar la función de transferencia (parte del ángulo)  ####################################################################################

w_values = np.logspace(np.log10(0.000003), np.log10(10000), 100)*2*np.pi
Rs= 0.5
R= 0.5
Cs_list= [0.01, 0.1, 1, 10, 100]
C= 1

for Cs in Cs_list:

    # Bucle para diferentes valores de R
    w = w_values
    Req=R+(1/Rs+1j*w*Cs)**-1
    H= 1/(1+1j*w*Req*C)
    TF = 1
    OIS= H*TF

    # Extraer la parte real e imaginaria
    result_real = np.real(OIS)
    result_imag = np.imag(OIS)

    # Imprimir los resultados
    ParteReal=[]
    ParteImag=[]
    for w, real, imag in zip(w_values, result_real, result_imag):
        ParteReal.append(real)
        ParteImag.append(-1*imag)


    ParteReal = np.array(ParteReal)
    ParteImag = np.array(ParteImag)
    Arg=(ParteReal**2+ParteImag**2)**0.5
    Ang=np.arctan(ParteImag/ParteReal)
    #plt.plot(w_values, Arg, linestyle='-', marker='o')
    #plt.xscale('log')
    #plt.show()



    # Crear la figura y el primer eje
    fig, ax1 = plt.subplots()

    # Graficar la primera serie de datos
    ax1.plot(w_values/(2*np.pi), Arg, '--r', label='Amp for Yois=H1+H2')
    ax1.set_xscale("log")
    ax1.set_ylim(0, 1.05)

    # Segundo eje comparte el mismo eje x y grafico la segunda serie de datos
    ax2 = ax1.twinx()
    ax2.plot(w_values/(2*np.pi), Ang*180/pi, '--g', label='Angle for Yois=H1+H2')
    ax2.set_ylim(0, 95)

    fig.legend(loc='upper right')
    plt.title('FITTING PARA MEDIDA ÓPTICA')
    plt.show()


    print('LOS VALORES SON:')
    print('R=',R)
    print('C=', C)


    plt.plot(ParteReal, ParteImag)

    print(w_values/(2*pi))
    print(Arg)
    print(Ang*180/pi)
    print(ParteReal)
    print(ParteImag)

    plt.xlim(0, 1)
    plt.ylim(0, 0.5)
    plt.show()
